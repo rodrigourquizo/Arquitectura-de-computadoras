{
  "nbformat": 4,
  "nbformat_minor": 0,
  "metadata": {
    "colab": {
      "provenance": [],
      "collapsed_sections": []
    },
    "kernelspec": {
      "name": "python3",
      "display_name": "Python 3"
    },
    "language_info": {
      "name": "python"
    }
  },
  "cells": [
    {
      "cell_type": "markdown",
      "source": [
        "#Upsampling\n",
        "\n",
        "Implementar en C un programa que ejecuta la función _upsampling_ en un favor $U=2$ de un arreglo bidimensional.\n",
        "\n",
        "Entrada:\n",
        "\n",
        "$$\n",
        "\\left(\\begin{array}{cc} \n",
        "1 & 3 & 5 \\\\\n",
        "11 & 13 & 15 \\\\\n",
        "21 & 23 & 25 \\\\\n",
        "\\end{array}\\right)\n",
        "$$\n",
        "\n",
        "Salida:\n",
        "\n",
        "$$\n",
        "\\left(\\begin{array}{cc} \n",
        "1 & 0 & 3 & 0 & 5 \\\\\n",
        "0 & 0 & 0 & 0 & 0 \\\\\n",
        "11 & 0 & 13 & 0 & 15 \\\\\n",
        "0 & 0 & 0 & 0 & 0 \\\\\n",
        "21 & 0 & 23 & 0 & 25 \\\\\n",
        "\\end{array}\\right)\n",
        "$$\n",
        "\n",
        "##Indicaciones:\n",
        "\n",
        "* Los arreglos deben ser números enteros de 32 bits. \n",
        "\n",
        "* Los tamaños de los arreglos bidimensionales son de la forma $2N+1$.\n",
        "\n",
        "* Presentar a sus JPs los resultados para $N=2$ y $N=4$. Puede presentar sus resultados en Colab o AWS.\n",
        "\n",
        "* Medir los tiempos de ejecución para valores de $N = {2, 4, 8, 16, 32, 64, 128, 256, 512, 1024, 2048}$. Resumir sus resultados en una tabla que incluya por lo menos dos arquitecturas distintas, adjuntar las capturas de pantalla que muestran sus mediciones, y realizar comentarios de la experiencia en las diferentes arquitecturas probadas.\n",
        "\n",
        "##Rúbrica de calificación:\n",
        "\n",
        "* Presentación del tercer inciso (14 puntos).\n",
        "\n",
        "* Presentación de la tabla (4 puntos).\n",
        "\n",
        "* Comentarios teóricos (2 puntos).\n",
        "\n",
        "##Fecha máxima de presentación:\n",
        "\n",
        "* Domingo 10:00 pm. \n",
        "\n",
        "Nota: Si no logró presentar a su JP el algoritmo tendrá como máximo nota 14."
      ],
      "metadata": {
        "id": "yeJUVeEurtb-"
      }
    },
    {
      "cell_type": "code",
      "execution_count": 112,
      "metadata": {
        "id": "igxugGRgrkCO",
        "colab": {
          "base_uri": "https://localhost:8080/"
        },
        "outputId": "c526a8c0-fd27-47a2-f5e4-62fd08b38566"
      },
      "outputs": [
        {
          "output_type": "stream",
          "name": "stdout",
          "text": [
            "Overwriting lab2.c\n"
          ]
        }
      ],
      "source": [
        "%%file lab2.c\n",
        "#include <stdio.h>\n",
        "#include <stdlib.h>\n",
        "#include <time.h>\n",
        "\n",
        "int main(int argc, char** const argv){\n",
        "    struct timespec ti, tf;\n",
        "    double elapsed;\n",
        "    int i,j;\n",
        "    //Generamos el tamaño de los arreglos recibiendo un entero N y aplicando la formula 2N+1\n",
        "    int tamano_entrada = 2*atoi(argv[1]) + 1;\n",
        "    int **A = (int **)malloc(tamano_entrada*sizeof(int*));\n",
        "    int tamano_salida = 4*atoi(argv[1]) + 1; //La salida seria 4*N+1\n",
        "    int **S = (int **)malloc(tamano_salida*sizeof(int*));\n",
        "\n",
        "    //Entonces generamos matrices cuadradas con los tamaños calculados\n",
        "    for(i=0;i<tamano_entrada;i++){\n",
        "        A[i] = (int *)malloc(tamano_entrada*sizeof(int));\n",
        "    }\n",
        "\n",
        "    for(i=0;i<tamano_salida;i++){\n",
        "        S[i] = (int *)malloc(tamano_salida*sizeof(int));\n",
        "    }\n",
        "\n",
        "    //Inicializacion de valores\n",
        "    for(i=0;i<tamano_entrada;i++){\n",
        "        for(j=0;j<tamano_entrada;j++){\n",
        "            A[i][j] = rand()%25+1; //Inicializamos los valores aleatorios mayores a 1 y menores a 25 en la matriz de entrada A\n",
        "        }\n",
        "    }\n",
        "\n",
        "    clock_gettime(CLOCK_REALTIME, &ti);\n",
        "    //Aplicamos la operacion de upsampling\n",
        "    for(i=0;i<tamano_entrada;i++){\n",
        "        for(j=0;j<tamano_entrada;j++){\n",
        "            S[i*2][j*2]=A[i][j]; //Se cumple que la posicion de los numeros de A es el doble en S\n",
        "        }\n",
        "    }\n",
        "    for(i=0;i<tamano_salida;i++){\n",
        "        for(j=0;j<tamano_salida;j++){\n",
        "          if(i%2!=0 || j%2!=0){S[i][j] = 0;} //Si tenemos una posicion impar tanto en fila como columna entonces llenamos con 0\n",
        "          \n",
        "        }\n",
        "    }\n",
        "\n",
        "    clock_gettime(CLOCK_REALTIME, &tf);\n",
        "\n",
        "    //Imprimir matrices\n",
        "    for(i=0;i<tamano_entrada;i++){\n",
        "        for(j=0;j<tamano_entrada;j++){\n",
        "            printf(\"%d\\t\", A[i][j]);\n",
        "        }\n",
        "        printf(\"\\n\");\n",
        "    }\n",
        "    printf(\"\\n\");\n",
        "    for(i=0;i<tamano_salida;i++){\n",
        "        for(j=0;j<tamano_salida;j++){\n",
        "            printf(\"%d\\t\", S[i][j]);\n",
        "        }\n",
        "        printf(\"\\n\");\n",
        "    }\n",
        "    \n",
        "    \n",
        "    elapsed =  (tf.tv_nsec - ti.tv_nsec);\n",
        "    printf(\"El tiempo en nanosegundos que toma la operacion de upsampling en C es %.1lf\\n\", elapsed);\n",
        "    \n",
        "}\n",
        "\n"
      ]
    },
    {
      "cell_type": "code",
      "source": [
        "%%shell\n",
        "gcc lab2.c -o lab\n",
        "./lab 2"
      ],
      "metadata": {
        "colab": {
          "base_uri": "https://localhost:8080/"
        },
        "id": "RDt6M5C6gupW",
        "outputId": "f7771281-b0af-4026-e36c-dcc1d79cf763"
      },
      "execution_count": 113,
      "outputs": [
        {
          "output_type": "stream",
          "name": "stdout",
          "text": [
            "9\t12\t3\t16\t19\t\n",
            "11\t12\t18\t25\t22\t\n",
            "13\t3\t16\t10\t14\t\n",
            "2\t16\t2\t23\t12\t\n",
            "12\t19\t18\t5\t8\t\n",
            "\n",
            "9\t0\t12\t0\t3\t0\t16\t0\t19\t\n",
            "0\t0\t0\t0\t0\t0\t0\t0\t0\t\n",
            "11\t0\t12\t0\t18\t0\t25\t0\t22\t\n",
            "0\t0\t0\t0\t0\t0\t0\t0\t0\t\n",
            "13\t0\t3\t0\t16\t0\t10\t0\t14\t\n",
            "0\t0\t0\t0\t0\t0\t0\t0\t0\t\n",
            "2\t0\t16\t0\t2\t0\t23\t0\t12\t\n",
            "0\t0\t0\t0\t0\t0\t0\t0\t0\t\n",
            "12\t0\t19\t0\t18\t0\t5\t0\t8\t\n",
            "El tiempo en nanosegundos que toma la operacion de upsampling en C es 800.0\n"
          ]
        },
        {
          "output_type": "execute_result",
          "data": {
            "text/plain": []
          },
          "metadata": {},
          "execution_count": 113
        }
      ]
    }
  ]
}