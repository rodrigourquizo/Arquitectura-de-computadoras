{
  "cells": [
    {
      "cell_type": "markdown",
      "id": "e5ce328e",
      "metadata": {
        "id": "e5ce328e"
      },
      "source": [
        "Se le brinda la implementación en C del producto matriz-vector para el caso en que los datos están ordenados en memoria por filas (Column-Major). \n",
        "\n",
        "Pregunta 1 (7 puntos) \n",
        "\n",
        "Pregunta 2 (6 puntos) \n",
        "\n",
        "*   Implementar los casos presentados en C en Python.\n",
        "*   Medir el error relativo de las implementación para comprobar la precisión  a un tamaño de matriz de 1024. Como referencia emplee la operación `dot` proporcionada por el módulo `numpy`.\n",
        "\n",
        "Pregunta 3 (7 puntos)\n",
        "\n",
        "* Implementar los casos presentados en C en ensamblador x64. Realizar el análisis temporal para los siguientes valores de N = [ 256, 512, 1024, 2048, 4096]. Reportar una gráfica de N vs tiempo [ms] por cada tipo de arreglo en dónde figuren los resultados del tiempo de ejecución representativo de los 3 algoritmos.\n",
        "IMPORTANTE: Considerar que para el cálculo del tiempo de ejecución representativo debe tomar la mediana, media armónica o promedio (después del filtro mediano). El número de iteraciones se deja a criterio del alumno.\n",
        "\n",
        "* Asumir la función más lenta como referencia y calcular el SpeedUP por función para cada N escogido en el item anterior.\n",
        "\n",
        "Comentarios:\n",
        "\n",
        "* La pregunta 1 se resuelve durante el laboratorio.\n",
        "* La pregunta 2 se resuelve durante el laboratorio.\n",
        "* La pregunta 3 se resuelve de manera asíncrona y se presenta el domingo hasta las 22:00."
      ]
    },
    {
      "cell_type": "markdown",
      "id": "19df4357",
      "metadata": {
        "id": "19df4357"
      },
      "source": [
        "## Dependencias"
      ]
    },
    {
      "cell_type": "code",
      "execution_count": null,
      "id": "f29f751c",
      "metadata": {
        "id": "f29f751c"
      },
      "outputs": [],
      "source": [
        "import numpy as np\n",
        "import ctypes\n",
        "import time\n",
        "from statistics import mean, median\n",
        "import matplotlib.pyplot as plt"
      ]
    },
    {
      "cell_type": "code",
      "source": [
        "def filtro_mediana(sign, w):\n",
        "    signc = []\n",
        "    lc = sign+sign+sign\n",
        "    ii = len(sign)\n",
        "    for i in range(len(sign)):\n",
        "        izq = i + ii - w//2\n",
        "        der = i + ii + w//2\n",
        "        signc.append(median(lc[izq:der+1]))\n",
        "    return signc"
      ],
      "metadata": {
        "id": "PVDt_09xqqtM"
      },
      "id": "PVDt_09xqqtM",
      "execution_count": null,
      "outputs": []
    },
    {
      "cell_type": "markdown",
      "id": "6e664ddb",
      "metadata": {
        "id": "6e664ddb"
      },
      "source": [
        "Los datos de memoria caché son los siguientes:"
      ]
    },
    {
      "cell_type": "code",
      "execution_count": null,
      "id": "e6acd7dc",
      "metadata": {
        "colab": {
          "base_uri": "https://localhost:8080/"
        },
        "id": "e6acd7dc",
        "outputId": "8baa448f-80d3-4f07-ef6f-da885a1b32e7"
      },
      "outputs": [
        {
          "output_type": "stream",
          "name": "stdout",
          "text": [
            "L1d cache:           32K\n",
            "L1i cache:           32K\n",
            "L2 cache:            256K\n",
            "L3 cache:            56320K\n"
          ]
        }
      ],
      "source": [
        "! lscpu | grep \"cache\""
      ]
    },
    {
      "cell_type": "markdown",
      "id": "66ea674e",
      "metadata": {
        "id": "66ea674e"
      },
      "source": [
        "## Column-Major Row-View"
      ]
    },
    {
      "cell_type": "code",
      "execution_count": null,
      "id": "ce88fdba",
      "metadata": {
        "colab": {
          "base_uri": "https://localhost:8080/"
        },
        "id": "ce88fdba",
        "outputId": "2a692ba3-ca60-4d52-e8fe-83bdd049bf78"
      },
      "outputs": [
        {
          "output_type": "stream",
          "name": "stdout",
          "text": [
            "Writing matvecCMRV.c\n"
          ]
        }
      ],
      "source": [
        "%%file matvecCMRV.c\n",
        "void matvecCMRV(double *A, double *x, double *b, int N)\n",
        "{\n",
        "    float tmp = 0.0;\n",
        "    for(int i = 0; i < N; i++)\n",
        "    {\n",
        "        tmp = 0.0;\n",
        "        for(int j = 0; j < N; j++)\n",
        "        {\n",
        "            tmp += A[i + j*N]*x[j];\n",
        "        }\n",
        "        b[i] = tmp;\n",
        "    }\n",
        "}"
      ]
    },
    {
      "cell_type": "code",
      "execution_count": null,
      "id": "dc110d2e",
      "metadata": {
        "id": "dc110d2e"
      },
      "outputs": [],
      "source": [
        "! gcc -c -fpic matvecCMRV.c -o matvecCMRV.o\n",
        "! gcc -shared matvecCMRV.o -o matvecCMRV.so"
      ]
    },
    {
      "cell_type": "code",
      "execution_count": null,
      "id": "e1add642",
      "metadata": {
        "id": "e1add642"
      },
      "outputs": [],
      "source": [
        "def ctypes_matvecCMRV():\n",
        "    # ruta de la shared library\n",
        "    lib = ctypes.CDLL('./matvecCMRV.so')\n",
        "    \n",
        "    # tipo de los argumentos\n",
        "    lib.matvecCMRV.argtypes = [\n",
        "        np.ctypeslib.ndpointer(dtype=np.float64),\n",
        "        np.ctypeslib.ndpointer(dtype=np.float64),\n",
        "        np.ctypeslib.ndpointer(dtype=np.float64),\n",
        "        ctypes.c_int\n",
        "    ]\n",
        "    \n",
        "    # se devuelve la función configurada\n",
        "    return lib.matvecCMRV"
      ]
    },
    {
      "cell_type": "code",
      "execution_count": null,
      "id": "d8458d6d",
      "metadata": {
        "id": "d8458d6d"
      },
      "outputs": [],
      "source": [
        "matvecCMRV = ctypes_matvecCMRV()"
      ]
    },
    {
      "cell_type": "code",
      "execution_count": null,
      "id": "d0ab5399",
      "metadata": {
        "colab": {
          "base_uri": "https://localhost:8080/"
        },
        "id": "d0ab5399",
        "outputId": "3bc3f22e-6c32-4b6c-b9c9-b67b40925bfd"
      },
      "outputs": [
        {
          "output_type": "execute_result",
          "data": {
            "text/plain": [
              "6.265255807731422e-07"
            ]
          },
          "metadata": {},
          "execution_count": 8
        }
      ],
      "source": [
        "n = 2048\n",
        "A = np.random.rand(n,n)\n",
        "Y = np.transpose(A).flatten()\n",
        "x = np.random.rand(n,1)\n",
        "bref = np.dot(A,x)\n",
        "# zeros_like te da un arreglo con las mismas dimensiones que el argumento, pero lleno de zeros\n",
        "bCMRV = np.zeros_like(bref)\n",
        "matvecCMRV(Y,x,bCMRV,n)\n",
        "# error relativo\n",
        "np.linalg.norm(bref-bCMRV)/np.linalg.norm(bref)"
      ]
    },
    {
      "cell_type": "markdown",
      "id": "4ee1c700",
      "metadata": {
        "id": "4ee1c700"
      },
      "source": [
        "## Column-Major Column-View"
      ]
    },
    {
      "cell_type": "code",
      "execution_count": null,
      "id": "24f49af8",
      "metadata": {
        "colab": {
          "base_uri": "https://localhost:8080/"
        },
        "id": "24f49af8",
        "outputId": "c84b82f9-65e7-4065-e161-a3c30efdd673"
      },
      "outputs": [
        {
          "output_type": "stream",
          "name": "stdout",
          "text": [
            "Writing matvecCMCV.c\n"
          ]
        }
      ],
      "source": [
        "%%file matvecCMCV.c\n",
        "void matvecCMCV(double *A, double *x, double *b, int N)\n",
        "{\n",
        "    for(int j = 0; j < N; j++)\n",
        "    {\n",
        "        for(int i = 0; i < N; i++)\n",
        "        {\n",
        "            b[i] += A[i + j*N]*x[j];\n",
        "        }\n",
        "    }\n",
        "}"
      ]
    },
    {
      "cell_type": "code",
      "execution_count": null,
      "id": "219a64c1",
      "metadata": {
        "id": "219a64c1"
      },
      "outputs": [],
      "source": [
        "! gcc -c -fpic matvecCMCV.c -o matvecCMCV.o\n",
        "! gcc -shared matvecCMCV.o -o matvecCMCV.so"
      ]
    },
    {
      "cell_type": "code",
      "execution_count": null,
      "id": "d89632a0",
      "metadata": {
        "id": "d89632a0"
      },
      "outputs": [],
      "source": [
        "def ctypes_matvecCMCV():\n",
        "    # ruta de la shared library\n",
        "    lib = ctypes.CDLL('./matvecCMCV.so')\n",
        "    \n",
        "    # tipo de los argumentos\n",
        "    lib.matvecCMCV.argtypes = [\n",
        "        np.ctypeslib.ndpointer(dtype=np.float64),\n",
        "        np.ctypeslib.ndpointer(dtype=np.float64),\n",
        "        np.ctypeslib.ndpointer(dtype=np.float64),\n",
        "        ctypes.c_int\n",
        "    ]\n",
        "    \n",
        "    # se devuelve la función configurada\n",
        "    return lib.matvecCMCV"
      ]
    },
    {
      "cell_type": "code",
      "execution_count": null,
      "id": "ef8fd9e7",
      "metadata": {
        "id": "ef8fd9e7"
      },
      "outputs": [],
      "source": [
        "matvecCMCV = ctypes_matvecCMCV()"
      ]
    },
    {
      "cell_type": "code",
      "execution_count": null,
      "id": "b904cd98",
      "metadata": {
        "colab": {
          "base_uri": "https://localhost:8080/"
        },
        "id": "b904cd98",
        "outputId": "e3f34f5d-ff85-4b73-ab68-fa841b4a94e3"
      },
      "outputs": [
        {
          "output_type": "execute_result",
          "data": {
            "text/plain": [
              "1.1740859662277033e-15"
            ]
          },
          "metadata": {},
          "execution_count": 13
        }
      ],
      "source": [
        "n = 2048\n",
        "A = np.random.rand(n,n)\n",
        "Y = np.transpose(A).flatten()\n",
        "x = np.random.rand(n,1)\n",
        "bref = np.dot(A,x)\n",
        "# zeros_like te da un arreglo con las mismas dimensiones que el argumento, pero lleno de zeros\n",
        "bCMCV = np.zeros_like(bref)\n",
        "matvecCMCV(Y,x,bCMCV,n)\n",
        "# error relativo\n",
        "np.linalg.norm(bref-bCMCV)/np.linalg.norm(bref)"
      ]
    },
    {
      "cell_type": "markdown",
      "id": "cb41fd61",
      "metadata": {
        "id": "cb41fd61"
      },
      "source": [
        "## Mediciones"
      ]
    },
    {
      "cell_type": "code",
      "execution_count": null,
      "id": "faa19f62",
      "metadata": {
        "id": "faa19f62"
      },
      "outputs": [],
      "source": [
        "tcmrv = []\n",
        "tcmcv = []\n",
        "ns = 2**np.arange(10,14)\n",
        "veces = 40\n",
        "for n in ns:\n",
        "    tcmrvi = []\n",
        "    tcmcvi = []\n",
        "    for j in range(veces):\n",
        "        # datos\n",
        "        A = np.random.rand(n,n)\n",
        "        x = np.random.rand(n,1)\n",
        "        \n",
        "        # entradas RM\n",
        "        Arm = A.flatten()\n",
        "        \n",
        "        # entradas CM\n",
        "        Acm = np.transpose(A).flatten()\n",
        "        \n",
        "        # referencia\n",
        "        bref = np.dot(A,x)\n",
        "        \n",
        "        # salidas\n",
        "        bCMRV = np.zeros_like(bref)\n",
        "        bCMCV = np.zeros_like(bref)\n",
        "        \n",
        "        # tiempo CMRV\n",
        "        t = time.time()\n",
        "        matvecCMRV(Acm,x,bCMRV,n)\n",
        "        tcmrvi.append(time.time() - t)\n",
        "        \n",
        "        # tiempo CMCV\n",
        "        t = time.time()\n",
        "        matvecCMCV(Acm,x,bCMCV,n)\n",
        "        tcmcvi.append(time.time() - t)\n",
        "    \n",
        "    tcmrv.append(mean(filtro_mediana(tcmrvi,9)))\n",
        "    tcmcv.append(mean(filtro_mediana(tcmcvi,9)))"
      ]
    },
    {
      "cell_type": "code",
      "execution_count": null,
      "id": "b959d1c0",
      "metadata": {
        "colab": {
          "base_uri": "https://localhost:8080/",
          "height": 295
        },
        "id": "b959d1c0",
        "outputId": "51ea11a1-c358-44be-e749-a2363df07a40"
      },
      "outputs": [
        {
          "output_type": "display_data",
          "data": {
            "text/plain": [
              "<Figure size 432x288 with 1 Axes>"
            ],
            "image/png": "[encoded data removed]"
          },
          "metadata": {
            "needs_background": "light"
          }
        }
      ],
      "source": [
        "plt.plot(ns, tcmrv, 'b-o', label='ColumnMajor-RowView')\n",
        "plt.plot(ns, tcmcv, 'c-o', label='ColumnMajor-ColumnView')\n",
        "plt.title('Efectos de la localidad')\n",
        "plt.xlabel('tamagno')\n",
        "plt.ylabel('tiempo promedio')\n",
        "plt.legend()\n",
        "plt.show()"
      ]
    },
    {
      "cell_type": "code",
      "execution_count": null,
      "id": "2e05ad76",
      "metadata": {
        "id": "2e05ad76"
      },
      "outputs": [],
      "source": [
        "! rm *.o\n",
        "! rm *.so\n",
        "! rm *.c"
      ]
    }
  ],
  "metadata": {
    "kernelspec": {
      "display_name": "Python 3 (ipykernel)",
      "language": "python",
      "name": "python3"
    },
    "language_info": {
      "codemirror_mode": {
        "name": "ipython",
        "version": 3
      },
      "file_extension": ".py",
      "mimetype": "text/x-python",
      "name": "python",
      "nbconvert_exporter": "python",
      "pygments_lexer": "ipython3",
      "version": "3.8.10"
    },
    "colab": {
      "provenance": [],
      "collapsed_sections": []
    }
  },
  "nbformat": 4,
  "nbformat_minor": 5
}