{
  "nbformat": 4,
  "nbformat_minor": 0,
  "metadata": {
    "colab": {
      "provenance": [],
      "collapsed_sections": [],
      "toc_visible": true
    },
    "kernelspec": {
      "name": "python3",
      "display_name": "Python 3"
    },
    "language_info": {
      "name": "python"
    }
  },
  "cells": [
    {
      "cell_type": "markdown",
      "source": [
        "#Downsampling\n",
        "\n",
        "Implementar en ensamblador de 64 bits con sintaxis de intel un programa que ejecuta la función _downsampling_ en un factor $D=2$ de un arreglo bidimensional.\n",
        "\n",
        "Entrada:\n",
        "\n",
        "$$\n",
        "\\left(\\begin{array}{cc} \n",
        "0 & 1 & 2 & 3 & 4 \\\\\n",
        "5 & 6 & 7 & 8 & 9 \\\\\n",
        "10 & 11 & 12 & 13 & 14 \\\\\n",
        "15 & 16 & 17 & 18 & 19 \\\\\n",
        "20 & 21 & 22 & 23 & 24 \\\\\n",
        "\\end{array}\\right)\n",
        "$$\n",
        "\n",
        "Salida:\n",
        "\n",
        "$$\n",
        "\\left(\\begin{array}{cc} \n",
        "0 & 2 & 4 \\\\\n",
        "10 & 12 & 14 \\\\\n",
        "20 & 22 & 24 \\\\\n",
        "\\end{array}\\right)\n",
        "$$\n",
        "\n",
        "##Indicaciones:\n",
        "\n",
        "* Los arreglos deben ser números enteros de 32 bits. \n",
        "\n",
        "* Presentar a sus JPs los resultados para el ejemplo del enunciado. Puede presentar sus resultados en Colab o AWS.\n",
        "\n",
        "* Emplear GDB para mostrar sus resultados en memoria al finalizar su algoritmo. Incluir capturas de pantalla"
      ],
      "metadata": {
        "id": "keRdofsQrsFj"
      }
    },
    {
      "cell_type": "code",
      "execution_count": null,
      "metadata": {
        "id": "Mg2OnbYArcD2"
      },
      "outputs": [],
      "source": []
    }
  ]
}