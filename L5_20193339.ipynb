{
  "cells": [
    {
      "cell_type": "markdown",
      "id": "e5ce328e",
      "metadata": {
        "id": "e5ce328e"
      },
      "source": [
        "Se le brinda la implementación en C del producto matriz-vector para el caso en que los datos están ordenados en memoria por filas (Column-Major). \n",
        "\n",
        "Pregunta 1 (7 puntos) \n",
        "\n",
        "Pregunta 2 (6 puntos) \n",
        "\n",
        "*   Implementar los casos presentados en C en Python.\n",
        "*   Medir el error relativo de las implementación para comprobar la precisión  a un tamaño de matriz de 1024. Como referencia emplee la operación `dot` proporcionada por el módulo `numpy`.\n",
        "\n",
        "Pregunta 3 (7 puntos)\n",
        "\n",
        "* Implementar los casos presentados en C en ensamblador x64. Realizar el análisis temporal para los siguientes valores de N = [ 256, 512, 1024, 2048, 4096]. Reportar una gráfica de N vs tiempo [ms] por cada tipo de arreglo en dónde figuren los resultados del tiempo de ejecución representativo de los 3 algoritmos.\n",
        "IMPORTANTE: Considerar que para el cálculo del tiempo de ejecución representativo debe tomar la mediana, media armónica o promedio (después del filtro mediano). El número de iteraciones se deja a criterio del alumno.\n",
        "\n",
        "* Asumir la función más lenta como referencia y calcular el SpeedUP por función para cada N escogido en el item anterior.\n",
        "\n",
        "Comentarios:\n",
        "\n",
        "* La pregunta 1 se resuelve durante el laboratorio.\n",
        "* La pregunta 2 se resuelve durante el laboratorio.\n",
        "* La pregunta 3 se resuelve de manera asíncrona y se presenta el domingo hasta las 22:00."
      ]
    },
    {
      "cell_type": "markdown",
      "source": [
        "RODRIGO URQUIZO 20193339\n",
        "\n",
        "*   CMRV:Column Major Row View\n",
        "*   CMCV:Column Major Column View"
      ],
      "metadata": {
        "id": "qKAF4CIeeCdN"
      },
      "id": "qKAF4CIeeCdN"
    },
    {
      "cell_type": "markdown",
      "id": "19df4357",
      "metadata": {
        "id": "19df4357"
      },
      "source": [
        "## Dependencias"
      ]
    },
    {
      "cell_type": "code",
      "execution_count": 1,
      "id": "f29f751c",
      "metadata": {
        "id": "f29f751c"
      },
      "outputs": [],
      "source": [
        "import numpy as np\n",
        "import time\n",
        "from statistics import mean, median\n",
        "import ctypes\n",
        "import matplotlib.pyplot as plt"
      ]
    },
    {
      "cell_type": "code",
      "source": [
        "def filtro_mediana(sign, w):\n",
        "    signc = []\n",
        "    lc = sign+sign+sign\n",
        "    ii = len(sign)\n",
        "    for i in range(len(sign)):\n",
        "        izq = i + ii - w//2\n",
        "        der = i + ii + w//2\n",
        "        signc.append(median(lc[izq:der+1]))\n",
        "    return signc"
      ],
      "metadata": {
        "id": "PVDt_09xqqtM"
      },
      "id": "PVDt_09xqqtM",
      "execution_count": 2,
      "outputs": []
    },
    {
      "cell_type": "markdown",
      "id": "6e664ddb",
      "metadata": {
        "id": "6e664ddb"
      },
      "source": [
        "Los datos de memoria caché son los siguientes:"
      ]
    },
    {
      "cell_type": "code",
      "execution_count": null,
      "id": "e6acd7dc",
      "metadata": {
        "colab": {
          "base_uri": "https://localhost:8080/"
        },
        "id": "e6acd7dc",
        "outputId": "8baa448f-80d3-4f07-ef6f-da885a1b32e7"
      },
      "outputs": [
        {
          "output_type": "stream",
          "name": "stdout",
          "text": [
            "L1d cache:           32K\n",
            "L1i cache:           32K\n",
            "L2 cache:            256K\n",
            "L3 cache:            56320K\n"
          ]
        }
      ],
      "source": [
        "! lscpu | grep \"cache\""
      ]
    },
    {
      "cell_type": "code",
      "source": [
        "!sudo apt install nasm"
      ],
      "metadata": {
        "id": "NyxTEpU0Z1Om"
      },
      "id": "NyxTEpU0Z1Om",
      "execution_count": null,
      "outputs": []
    },
    {
      "cell_type": "markdown",
      "id": "66ea674e",
      "metadata": {
        "id": "66ea674e"
      },
      "source": [
        "## Column-Major Row-View"
      ]
    },
    {
      "cell_type": "code",
      "source": [
        "%%file matvecCMRV_asm.asm\n",
        "global matvecCMRV_asm\n",
        "section .text\n",
        "\n",
        ";RDI<-A[0]  RSI<-x[0]  RDX<-b[0] RCX<-N\n",
        "\n",
        "matvecCMRV_asm:\n",
        "xorpd xmm0,xmm0             ;tmp\n",
        "xorpd xmm1,xmm1\n",
        "xorpd xmm2,xmm2\n",
        "mov r8, 0                   ;i=0\n",
        "mov r9, 0                   ;j=0\n",
        "mov r10, rcx                ;r10=N\n",
        "mov r11, rdi                ;r11=A[0] \n",
        "\n",
        "buclej:\n",
        "mov rax, r9                 ;rax<-j\n",
        "mul r10b                    ;rax<-j*N\n",
        "add rax, r8                 ;rax<- j*N + i\n",
        "movsd xmm1, [rdi + 8*rax] \t;A[i + j*N]\n",
        "movsd xmm2, [rsi + 8*r9] \t;x[j] \n",
        "mulsd xmm1, xmm2 \t\t\t;xmm1<-A[i + j*N]*x[j]\n",
        "addsd xmm0, xmm1  \t\t\t;tmp += xmm1\n",
        "cmp r9, rcx\n",
        "je inc_i                    ;si j=N sale del bucle\n",
        "inc r9                      ;j=j+1\n",
        "jmp buclej                  \n",
        "\n",
        "inc_i:\n",
        "movsd [rdx], xmm0           ;b[i]<-tmp\n",
        "\n",
        "cmp r8, rcx                 ;si i=N sale del bucle     \n",
        "je fin                      \n",
        "inc r8                      ;i<-i+1    \n",
        "add rdx, 8                  ;paso al sgte elemento del arreglo b\n",
        "mov r9, 0                   ;j=0    \n",
        "xorpd xmm0, xmm0            ;tmp=0.0\n",
        "jmp buclej\n",
        "\n",
        "fin:\n",
        "ret"
      ],
      "metadata": {
        "id": "UJe4sK-iPKLk",
        "colab": {
          "base_uri": "https://localhost:8080/"
        },
        "outputId": "1e570e51-01e1-46ab-b574-b0cebc8c358e"
      },
      "execution_count": 4,
      "outputs": [
        {
          "output_type": "stream",
          "name": "stdout",
          "text": [
            "Overwriting matvecCMRV_asm.asm\n"
          ]
        }
      ],
      "id": "UJe4sK-iPKLk"
    },
    {
      "cell_type": "code",
      "source": [
        "%%file matvecCMRV_asm.c\n",
        "extern void matvecCMRV_asm(double *A, double *x, double *b, int N);"
      ],
      "metadata": {
        "colab": {
          "base_uri": "https://localhost:8080/"
        },
        "id": "HSMjmdPjjFnl",
        "outputId": "f34ba701-78f2-4d71-d277-cfa12cf14e1d"
      },
      "execution_count": 5,
      "outputs": [
        {
          "output_type": "stream",
          "name": "stdout",
          "text": [
            "Overwriting matvecCMRV_asm.c\n"
          ]
        }
      ],
      "id": "HSMjmdPjjFnl"
    },
    {
      "cell_type": "code",
      "source": [
        "! nasm -f elf64 matvecCMRV_asm.asm -o matvecCMRV_asm.o\n",
        "! gcc -shared matvecCMRV_asm.o matvecCMRV_asm.c -o matvecCMRV_asm.so"
      ],
      "metadata": {
        "id": "DUP2ZkY4kHOm"
      },
      "execution_count": 6,
      "outputs": [],
      "id": "DUP2ZkY4kHOm"
    },
    {
      "cell_type": "code",
      "execution_count": 7,
      "id": "ce88fdba",
      "metadata": {
        "colab": {
          "base_uri": "https://localhost:8080/"
        },
        "id": "ce88fdba",
        "outputId": "f2a349d0-39c1-4eef-9c31-08adf07c3f4c"
      },
      "outputs": [
        {
          "output_type": "stream",
          "name": "stdout",
          "text": [
            "Overwriting matvecCMRV.c\n"
          ]
        }
      ],
      "source": [
        "%%file matvecCMRV.c\n",
        "void matvecCMRV(double *A, double *x, double *b, int N)\n",
        "{\n",
        "    float tmp = 0.0;\n",
        "    for(int i = 0; i < N; i++)\n",
        "    {\n",
        "        tmp = 0.0;\n",
        "        for(int j = 0; j < N; j++)\n",
        "        {\n",
        "            tmp += A[i + j*N]*x[j];\n",
        "        }\n",
        "        b[i] = tmp;\n",
        "        \n",
        "    }\n",
        "}"
      ]
    },
    {
      "cell_type": "code",
      "execution_count": 8,
      "id": "dc110d2e",
      "metadata": {
        "id": "dc110d2e"
      },
      "outputs": [],
      "source": [
        "! gcc -c -fpic matvecCMRV.c -o matvecCMRV.o\n",
        "! gcc -shared matvecCMRV.o -o matvecCMRV.so"
      ]
    },
    {
      "cell_type": "code",
      "source": [
        "def matvecCMRV_python(A, x, b, N):\n",
        "    tmp = 0.0;\n",
        "    for i in range(N):\n",
        "      tmp = 0.0;\n",
        "      for j in range(N):\n",
        "        tmp += A[i + j*N]*x[j];\n",
        "      b[i] = tmp;\n",
        "    return b"
      ],
      "metadata": {
        "id": "-sF-R1fOFCX4"
      },
      "id": "-sF-R1fOFCX4",
      "execution_count": 9,
      "outputs": []
    },
    {
      "cell_type": "markdown",
      "source": [
        "Hallamos el error relativo para CMRV en Python con N=1024"
      ],
      "metadata": {
        "id": "G7XHPvvM2CCA"
      },
      "id": "G7XHPvvM2CCA"
    },
    {
      "cell_type": "code",
      "source": [
        "n = 1024\n",
        "A = np.random.rand(n,n)\n",
        "Y = np.transpose(A).flatten()\n",
        "x = np.random.rand(n,1)\n",
        "bref = np.dot(A,x)\n",
        "# zeros_like te da un arreglo con las mismas dimensiones que el argumento, pero lleno de zeros\n",
        "bCMRV = np.zeros_like(bref)\n",
        "res = matvecCMRV_python(Y,x,bCMRV, n)\n",
        "# error relativo\n",
        "np.linalg.norm(res-bref)/np.linalg.norm(res)"
      ],
      "metadata": {
        "colab": {
          "base_uri": "https://localhost:8080/"
        },
        "id": "s6ZQ0MjJHVHM",
        "outputId": "a16cfa85-4ed1-468c-973b-1a6749ace01c"
      },
      "id": "s6ZQ0MjJHVHM",
      "execution_count": 22,
      "outputs": [
        {
          "output_type": "execute_result",
          "data": {
            "text/plain": [
              "8.11381245251717e-16"
            ]
          },
          "metadata": {},
          "execution_count": 22
        }
      ]
    },
    {
      "cell_type": "code",
      "execution_count": 11,
      "id": "e1add642",
      "metadata": {
        "id": "e1add642"
      },
      "outputs": [],
      "source": [
        "def ctypes_matvecCMRVc():\n",
        "    # ruta de la shared library\n",
        "    lib = ctypes.CDLL('./matvecCMRV.so')\n",
        "    \n",
        "    # tipo de los argumentos\n",
        "    lib.matvecCMRV.argtypes = [\n",
        "        np.ctypeslib.ndpointer(dtype=np.float64),\n",
        "        np.ctypeslib.ndpointer(dtype=np.float64),\n",
        "        np.ctypeslib.ndpointer(dtype=np.float64),\n",
        "        ctypes.c_int\n",
        "    ]\n",
        "    \n",
        "    # se devuelve la función configurada\n",
        "    return lib.matvecCMRV\n",
        "\n",
        "def ctypes_matvecCMRVasm():\n",
        "    # ruta de la shared library\n",
        "    lib = ctypes.CDLL('./matvecCMRV_asm.so')\n",
        "    \n",
        "    # tipo de los argumentos\n",
        "    lib.matvecCMRV_asm.argtypes = [\n",
        "        np.ctypeslib.ndpointer(dtype=np.float64),\n",
        "        np.ctypeslib.ndpointer(dtype=np.float64),\n",
        "        np.ctypeslib.ndpointer(dtype=np.float64),\n",
        "        ctypes.c_int\n",
        "    ]\n",
        "    \n",
        "    # se devuelve la función configurada\n",
        "    return lib.matvecCMRV_asm\n"
      ]
    },
    {
      "cell_type": "code",
      "execution_count": 12,
      "id": "d8458d6d",
      "metadata": {
        "id": "d8458d6d"
      },
      "outputs": [],
      "source": [
        "matvecCMRV_c = ctypes_matvecCMRVc()\n",
        "matvecCMRV_asm = ctypes_matvecCMRVasm()"
      ]
    },
    {
      "cell_type": "markdown",
      "source": [
        "Hallamos el error relativo para CMRV en ASM con N=4"
      ],
      "metadata": {
        "id": "Ge3HXZ1g10cg"
      },
      "id": "Ge3HXZ1g10cg"
    },
    {
      "cell_type": "code",
      "execution_count": 15,
      "id": "d0ab5399",
      "metadata": {
        "id": "d0ab5399",
        "colab": {
          "base_uri": "https://localhost:8080/"
        },
        "outputId": "439004ee-e559-43fa-d541-14644ef9b400"
      },
      "outputs": [
        {
          "output_type": "execute_result",
          "data": {
            "text/plain": [
              "9.864232559601135e-17"
            ]
          },
          "metadata": {},
          "execution_count": 15
        }
      ],
      "source": [
        "n = 4\n",
        "A = np.random.rand(n,n)\n",
        "Y = np.transpose(A).flatten()\n",
        "x = np.random.rand(n,1)\n",
        "bref = np.dot(A,x)\n",
        "# zeros_like te da un arreglo con las mismas dimensiones que el argumento, pero lleno de zeros\n",
        "bCMRV = np.zeros_like(bref)\n",
        "matvecCMRV_asm(Y,x,bCMRV,n)\n",
        "# error relativo\n",
        "np.linalg.norm(bref-bCMRV)/np.linalg.norm(bref)"
      ]
    },
    {
      "cell_type": "markdown",
      "id": "4ee1c700",
      "metadata": {
        "id": "4ee1c700"
      },
      "source": [
        "## Column-Major Column-View"
      ]
    },
    {
      "cell_type": "code",
      "source": [
        "%%file matvecCMCV_asm.asm\n",
        "global matvecCMCV_asm\n",
        "section .text\n",
        "\n",
        ";RDI<-A[0]  RSI<-x[0]  RDX<-b[0] RCX<-N\n",
        "\n",
        "matvecCMCV_asm:\n",
        "xorpd xmm0,xmm0\n",
        "xorpd xmm1,xmm1\n",
        "xorpd xmm2,xmm2\n",
        "xorpd xmm3,xmm3\n",
        "\n",
        "mov r8, 0                   ;i=0\n",
        "mov r9, 0                   ;j=0\n",
        "mov r10, rcx                ;r10=N\n",
        "mov r11, rdi                ;r11=A[0] \n",
        "mov r12, 8\n",
        "\n",
        "buclei:\n",
        "mov rax, r9                 ;rax<-j\n",
        "mul r10b                    ;rax<-j*N\n",
        "add rax, r8                 ;rax<- j*N + i\n",
        "movsd xmm1, [rdi + 8*rax] \t;A[i + j*N]\n",
        "movsd xmm2, [rsi + 8*r9] \t;x[j] \n",
        "mulsd xmm1, xmm2 \t\t\t;xmm1<-A[i + j*N]*x[j]\n",
        "\n",
        "movsd xmm3, [rdx]           ;xmm3<-b[i]\n",
        "addsd xmm3,xmm1             ;xmm3<-b[i] + A[i + j*N]*x[j]\n",
        "movsd [rdx], xmm3           ;b[i]<-xmm3           \n",
        "\n",
        "cmp r8, rcx\n",
        "je inc_j                    ;si i=N sale del bucle\n",
        "inc r8                      ;i=i+1\n",
        "add rdx,8                   \n",
        "jmp buclei                  \n",
        "\n",
        "inc_j:\n",
        "cmp r9, rcx                 ;si j=N sale del bucle     \n",
        "je fin                      \n",
        "inc r9                      ;j<-j+1    \n",
        "mov r8, 0                   ;i=0\n",
        "\n",
        "mov rax,rcx                 ;rax<-N    \n",
        "mul r12b                    ;rax<-N*8\n",
        "sub rdx, rax                ;rdx<-b[0]\n",
        "xor rax, rax\n",
        "jmp buclei\n",
        "\n",
        "fin:\n",
        "ret"
      ],
      "metadata": {
        "colab": {
          "base_uri": "https://localhost:8080/"
        },
        "id": "hs95woWTdBKm",
        "outputId": "8ddc530c-4d54-4c7e-9a28-760ee89d3ad5"
      },
      "id": "hs95woWTdBKm",
      "execution_count": 16,
      "outputs": [
        {
          "output_type": "stream",
          "name": "stdout",
          "text": [
            "Overwriting matvecCMCV_asm.asm\n"
          ]
        }
      ]
    },
    {
      "cell_type": "code",
      "source": [
        "%%file matvecCMCV_asm.c\n",
        "extern void matvecCMCV_asm(double *A, double *x, double *b, int N);"
      ],
      "metadata": {
        "colab": {
          "base_uri": "https://localhost:8080/"
        },
        "id": "AQcZdry7dJF-",
        "outputId": "7b5ea2cd-3212-4be8-eb3c-ee6fc369e093"
      },
      "id": "AQcZdry7dJF-",
      "execution_count": 17,
      "outputs": [
        {
          "output_type": "stream",
          "name": "stdout",
          "text": [
            "Overwriting matvecCMCV_asm.c\n"
          ]
        }
      ]
    },
    {
      "cell_type": "code",
      "source": [
        "!nasm -f elf64 matvecCMCV_asm.asm -o matvecCMCV_asm.o\n",
        "!gcc -shared matvecCMCV_asm.o matvecCMCV_asm.c -o matvecCMCV_asm.so"
      ],
      "metadata": {
        "id": "z6MYYbNedOtE"
      },
      "id": "z6MYYbNedOtE",
      "execution_count": 18,
      "outputs": []
    },
    {
      "cell_type": "code",
      "execution_count": 19,
      "id": "24f49af8",
      "metadata": {
        "colab": {
          "base_uri": "https://localhost:8080/"
        },
        "id": "24f49af8",
        "outputId": "71cfad20-2038-426f-e780-baa3b9085637"
      },
      "outputs": [
        {
          "output_type": "stream",
          "name": "stdout",
          "text": [
            "Overwriting matvecCMCV.c\n"
          ]
        }
      ],
      "source": [
        "%%file matvecCMCV.c\n",
        "void matvecCMCV(double *A, double *x, double *b, int N)\n",
        "{\n",
        "    for(int j = 0; j < N; j++)\n",
        "    {\n",
        "        for(int i = 0; i < N; i++)\n",
        "        {\n",
        "            b[i] += A[i + j*N]*x[j];\n",
        "        }\n",
        "    }\n",
        "}"
      ]
    },
    {
      "cell_type": "code",
      "execution_count": 20,
      "id": "219a64c1",
      "metadata": {
        "id": "219a64c1"
      },
      "outputs": [],
      "source": [
        "! gcc -c -fpic matvecCMCV.c -o matvecCMCV.o\n",
        "! gcc -shared matvecCMCV.o -o matvecCMCV.so"
      ]
    },
    {
      "cell_type": "code",
      "source": [
        "def matvecCMCV_python(A, x, b, N):\n",
        "    for j in range(N):\n",
        "      for i in range(N):\n",
        "        b[i] += A[i + j*N]*x[j];\n",
        "    return b\n"
      ],
      "metadata": {
        "id": "8JBxGcfJIRxa"
      },
      "id": "8JBxGcfJIRxa",
      "execution_count": 21,
      "outputs": []
    },
    {
      "cell_type": "markdown",
      "source": [
        "Hallamos el error relativo para CMCV en Python con N=1024"
      ],
      "metadata": {
        "id": "R6cemd7AYPQh"
      },
      "id": "R6cemd7AYPQh"
    },
    {
      "cell_type": "code",
      "source": [
        "n = 16\n",
        "A = np.random.rand(n,n)\n",
        "Y = np.transpose(A).flatten()\n",
        "x = np.random.rand(n,1)\n",
        "bref = np.dot(A,x)\n",
        "# zeros_like te da un arreglo con las mismas dimensiones que el argumento, pero lleno de zeros\n",
        "bCMRV = np.zeros_like(bref)\n",
        "res = matvecCMCV_python(Y,x,bCMRV, n)\n",
        "# error relativo\n",
        "np.linalg.norm(res-bref)/np.linalg.norm(res)"
      ],
      "metadata": {
        "colab": {
          "base_uri": "https://localhost:8080/"
        },
        "id": "82H2NWRLImlr",
        "outputId": "54c6588c-2a7d-4bd1-f680-a094e684e8c0"
      },
      "id": "82H2NWRLImlr",
      "execution_count": 23,
      "outputs": [
        {
          "output_type": "execute_result",
          "data": {
            "text/plain": [
              "1.420307882691346e-16"
            ]
          },
          "metadata": {},
          "execution_count": 23
        }
      ]
    },
    {
      "cell_type": "code",
      "execution_count": 24,
      "id": "d89632a0",
      "metadata": {
        "id": "d89632a0"
      },
      "outputs": [],
      "source": [
        "def ctypes_matvecCMCV():\n",
        "    # ruta de la shared library\n",
        "    lib = ctypes.CDLL('./matvecCMCV.so')\n",
        "    \n",
        "    # tipo de los argumentos\n",
        "    lib.matvecCMCV.argtypes = [\n",
        "        np.ctypeslib.ndpointer(dtype=np.float64),\n",
        "        np.ctypeslib.ndpointer(dtype=np.float64),\n",
        "        np.ctypeslib.ndpointer(dtype=np.float64),\n",
        "        ctypes.c_int\n",
        "    ]\n",
        "    \n",
        "    # se devuelve la función configurada\n",
        "    return lib.matvecCMCV\n",
        "\n",
        "def ctypes_matvecCMCVasm():\n",
        "    # ruta de la shared library\n",
        "    lib = ctypes.CDLL('./matvecCMCV_asm.so')\n",
        "    \n",
        "    # tipo de los argumentos\n",
        "    lib.matvecCMCV_asm.argtypes = [\n",
        "        np.ctypeslib.ndpointer(dtype=np.float64),\n",
        "        np.ctypeslib.ndpointer(dtype=np.float64),\n",
        "        np.ctypeslib.ndpointer(dtype=np.float64),\n",
        "        ctypes.c_int\n",
        "    ]\n",
        "    \n",
        "    # se devuelve la función configurada\n",
        "    return lib.matvecCMCV_asm\n"
      ]
    },
    {
      "cell_type": "code",
      "execution_count": 25,
      "id": "ef8fd9e7",
      "metadata": {
        "id": "ef8fd9e7"
      },
      "outputs": [],
      "source": [
        "matvecCMCV_c = ctypes_matvecCMCV()\n",
        "matvecCMCV_asm = ctypes_matvecCMCVasm()"
      ]
    },
    {
      "cell_type": "markdown",
      "source": [
        "Hallamos el error relativo para CMCV en ASM con N=4"
      ],
      "metadata": {
        "id": "NzqfjGQPYrYU"
      },
      "id": "NzqfjGQPYrYU"
    },
    {
      "cell_type": "code",
      "execution_count": 27,
      "id": "b904cd98",
      "metadata": {
        "colab": {
          "base_uri": "https://localhost:8080/"
        },
        "id": "b904cd98",
        "outputId": "be27d1c3-ec2d-483f-8411-c04317924518"
      },
      "outputs": [
        {
          "output_type": "execute_result",
          "data": {
            "text/plain": [
              "6.351316541796569e-17"
            ]
          },
          "metadata": {},
          "execution_count": 27
        }
      ],
      "source": [
        "n = 4\n",
        "A = np.random.rand(n,n)\n",
        "Y = np.transpose(A).flatten()\n",
        "x = np.random.rand(n,1)\n",
        "bref = np.dot(A,x)\n",
        "# zeros_like te da un arreglo con las mismas dimensiones que el argumento, pero lleno de zeros\n",
        "bCMCV = np.zeros_like(bref)\n",
        "matvecCMCV_asm(Y,x,bCMCV,n)\n",
        "# error relativo\n",
        "np.linalg.norm(bref-bCMCV)/np.linalg.norm(bref)"
      ]
    },
    {
      "cell_type": "markdown",
      "id": "cb41fd61",
      "metadata": {
        "id": "cb41fd61"
      },
      "source": [
        "## Mediciones"
      ]
    },
    {
      "cell_type": "markdown",
      "source": [
        "La notebook colapso y en AWS se detuvo la ejecucion con el mensaje de 'killed' con los valores de N solicitados, incluso me paso lo mismo reduciendo el numero de iteraciones y disminuyendo el valor de N, es debido a ello que empleo los valores de N = [2,4,8,16,32] y lo implemento en AWS ya que ahi pude ejecutar el algoritmo exitosamente.\n",
        "\n",
        "Los archivos en ASM, Python y C los estoy adjuntando en una carpeta aparte junto con los graficos obtenidos. El codigo implementado en AWS para las mediciones tambien esta en este colab junto con las imagenes. "
      ],
      "metadata": {
        "id": "lCvDjdBnY511"
      },
      "id": "lCvDjdBnY511"
    },
    {
      "cell_type": "markdown",
      "source": [
        "CASO 1: CMRV"
      ],
      "metadata": {
        "id": "dpvsFIKu2W1W"
      },
      "id": "dpvsFIKu2W1W"
    },
    {
      "cell_type": "code",
      "execution_count": null,
      "id": "faa19f62",
      "metadata": {
        "id": "faa19f62"
      },
      "outputs": [],
      "source": [
        "ns = [2,4,8,16,32]\n",
        "veces = 10\n",
        "tcmrv_c = np.zeros((len(ns),1),dtype=np.float32)\n",
        "tcmrv_python = np.zeros((len(ns),1),dtype=np.float32)\n",
        "tcmrv_asm = np.zeros((len(ns),1),dtype=np.float32)\n",
        "\n",
        "\n",
        "for i, n in enumerate(ns):\n",
        "    tcmrvi_c = []\n",
        "    tcmrvi_python = []\n",
        "    tcmrvi_asm = []\n",
        "    for j in range(veces):\n",
        "        # datos\n",
        "        A = np.random.rand(n,n)\n",
        "        x = np.random.rand(n,1)  \n",
        "        # entradas RM\n",
        "        Arm = A.flatten()\n",
        "        # entradas CM\n",
        "        Acm = np.transpose(A).flatten()\n",
        "        # referencia\n",
        "        bref = np.dot(A,x)\n",
        "        # salidas\n",
        "        bCMRV = np.zeros_like(bref)\n",
        "        \n",
        "        # tiempo Python\n",
        "        t = time.time()\n",
        "        matvecCMRV_python(Acm,x,bCMRV,n)\n",
        "        tcmrvi_python.append(time.time() - t)\n",
        "        \n",
        "        # tiempo C\n",
        "        t = time.time()\n",
        "        matvecCMRV_c(Acm,x,bCMRV,n)\n",
        "        tcmrvi_c.append(time.time() - t)\n",
        "\n",
        "        # tiempo ASM\n",
        "        t = time.time()\n",
        "        matvecCMCV_asm(Acm,x,bCMRV,n)\n",
        "        tcmrvi_asm.append(time.time() - t)\n",
        "\n",
        "    tcmrv_python[i]=(mean(filtro_mediana(tcmrvi_python,9)))\n",
        "    tcmrv_c[i]=(mean(filtro_mediana(tcmrvi_c,9)))\n",
        "    tcmrv_asm[i]=(mean(filtro_mediana(tcmrvi_asm,9)))"
      ]
    },
    {
      "cell_type": "markdown",
      "source": [
        "Aca obtenemos las graficas de N vs tiempo tanto para Python, C y ensamblador"
      ],
      "metadata": {
        "id": "xtNrv0sCdiOo"
      },
      "id": "xtNrv0sCdiOo"
    },
    {
      "cell_type": "code",
      "source": [
        "#GRAFICO DE N VS TIEMPO PARA CMRV\n",
        "plt.plot(ns, tcmrv_c, 'b-o', label='tiempos C')\n",
        "plt.plot(ns, tcmrv_python, 'c-o', label='tiempos Python')\n",
        "plt.plot(ns, tcmrv_asm, 'r-o', label='tiempos ASM')\n",
        "plt.title('Efectos de la localidad-CMRV')\n",
        "plt.xlabel('tamagno')\n",
        "plt.ylabel('tiempo promedio')\n",
        "plt.legend()\n",
        "plt.show()\n",
        "#En AWS:\n",
        "#plt.savefig('CMRV_tiempos.jpg')"
      ],
      "metadata": {
        "id": "ZBaQ1Fo7W433"
      },
      "id": "ZBaQ1Fo7W433",
      "execution_count": null,
      "outputs": []
    },
    {
      "cell_type": "markdown",
      "source": [
        "![CMRV_tiempos.jpg](data:image/jpeg;base64,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)"
      ],
      "metadata": {
        "id": "4zXxNqX_ogD0"
      },
      "id": "4zXxNqX_ogD0"
    },
    {
      "cell_type": "markdown",
      "source": [
        "En que proporcion la implementacion en ASM es mas rapida que en Python y ASM"
      ],
      "metadata": {
        "id": "egDwqMFedRD1"
      },
      "id": "egDwqMFedRD1"
    },
    {
      "cell_type": "code",
      "source": [
        "#GRAFICO DE N VS SPEEDUP PARA CMRV\n",
        "plt.figure(figsize=(10,5))\n",
        " \n",
        "plt.plot(ns, tcmrv_c/tcmrv_asm, 'g-o', label='C-ASM')\n",
        "plt.plot(ns, tcmrv_python/tcmrv_asm, 'r-o', label='Python-ASM')\n",
        "\n",
        "plt.title('speedup por tamagno-CMRV')\n",
        "plt.xlabel('tamagno')\n",
        "plt.ylabel('speedup')\n",
        "plt.legend()\n",
        "plt.show()\n",
        "#En AWS:\n",
        "#plt.savefig('CMRV_speedup.jpg')"
      ],
      "metadata": {
        "id": "pRUehxoEWpOI"
      },
      "id": "pRUehxoEWpOI",
      "execution_count": null,
      "outputs": []
    },
    {
      "cell_type": "markdown",
      "source": [
        "![CMRV_speedup.jpg](data:image/jpeg;base64,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)"
      ],
      "metadata": {
        "id": "wJ1fgymvp2DE"
      },
      "id": "wJ1fgymvp2DE"
    },
    {
      "cell_type": "markdown",
      "source": [
        "CASO 2: CMCV"
      ],
      "metadata": {
        "id": "eQ4e4ZVkWtNk"
      },
      "id": "eQ4e4ZVkWtNk"
    },
    {
      "cell_type": "code",
      "execution_count": 42,
      "metadata": {
        "id": "1WA9BkGDnnib"
      },
      "outputs": [],
      "source": [
        "#ns= [ 256, 512, 1024, 2048, 4096]\n",
        "#Uso valores de N pequeños ya que con los casos solicitados el colab demora demasiado en ejecutar, esto me paso incluso disminuyendo el numero de iteraciones a 5\n",
        "ns = [2,4,8,16,32]\n",
        "veces = 10\n",
        "tcmcv_c = np.zeros((len(ns),1),dtype=np.float32)\n",
        "tcmcv_python = np.zeros((len(ns),1),dtype=np.float32)\n",
        "tcmcv_asm = np.zeros((len(ns),1),dtype=np.float32)\n",
        "\n",
        "\n",
        "for i, n in enumerate(ns):\n",
        "    tcmcvi_c = []\n",
        "    tcmcvi_python = []\n",
        "    tcmcvi_asm = []\n",
        "    for j in range(veces):\n",
        "        # datos\n",
        "        A = np.random.rand(n,n)\n",
        "        x = np.random.rand(n,1)  \n",
        "        # entradas RM\n",
        "        Arm = A.flatten()\n",
        "        # entradas CM\n",
        "        Acm = np.transpose(A).flatten()\n",
        "        # referencia\n",
        "        bref = np.dot(A,x)\n",
        "        # salidas\n",
        "        bCMCV = np.zeros_like(bref)\n",
        "        \n",
        "        # tiempo Python\n",
        "        t = time.time()\n",
        "        matvecCMCV_python(Acm,x,bCMCV,n)\n",
        "        tcmcvi_python.append(time.time() - t)\n",
        "        \n",
        "        # tiempo C\n",
        "        t = time.time()\n",
        "        matvecCMCV_c(Acm,x,bCMCV,n)\n",
        "        tcmcvi_c.append(time.time() - t)\n",
        "        \n",
        "        # tiempo ASM\n",
        "        t = time.time()\n",
        "        matvecCMCV_asm(Acm,x,bCMCV,n)\n",
        "        tcmcvi_asm.append(time.time() - t)\n",
        "\n",
        "    tcmcv_python[i]=(mean(filtro_mediana(tcmcvi_python,9)))\n",
        "    tcmcv_c[i]=(mean(filtro_mediana(tcmcvi_c,9)))\n",
        "    tcmcv_asm[i]=(mean(filtro_mediana(tcmcvi_asm,9)))"
      ],
      "id": "1WA9BkGDnnib"
    },
    {
      "cell_type": "markdown",
      "source": [
        "Aca obtenemos las graficas de N vs tiempo tanto para Python, C y ensamblador"
      ],
      "metadata": {
        "id": "0hdbs080dk47"
      },
      "id": "0hdbs080dk47"
    },
    {
      "cell_type": "code",
      "source": [
        "#GRAFICO DE N VS TIEMPO PARA CMCV\n",
        "plt.plot(ns, tcmcv_c, 'b-o', label='tiempos C')\n",
        "plt.plot(ns, tcmcv_python, 'c-o', label='tiempos Python')\n",
        "plt.plot(ns, tcmcv_asm, 'r-o', label='tiempos ASM')\n",
        "plt.title('Efectos de la localidad-CMCV')\n",
        "plt.xlabel('tamagno')\n",
        "plt.ylabel('tiempo promedio')\n",
        "plt.legend()\n",
        "plt.show()\n",
        "#En AWS:\n",
        "#plt.savefig('CMCV_tiempos.jpg')"
      ],
      "metadata": {
        "id": "D8aFekSdW1O7"
      },
      "id": "D8aFekSdW1O7",
      "execution_count": null,
      "outputs": []
    },
    {
      "cell_type": "markdown",
      "source": [
        "![CMCV_tiempos.jpg](data:image/jpeg;base64,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)"
      ],
      "metadata": {
        "id": "jjEHmSsToRjr"
      },
      "id": "jjEHmSsToRjr"
    },
    {
      "cell_type": "markdown",
      "source": [
        "En que proporcion la implementacion en ASM es mas rapida que en Python y ASM"
      ],
      "metadata": {
        "id": "dIDEEgCYduTR"
      },
      "id": "dIDEEgCYduTR"
    },
    {
      "cell_type": "code",
      "source": [
        "#GRAFICO DE N VS SPEEDUP PARA CMCV\n",
        "plt.figure(figsize=(10,5))\n",
        "plt.plot(ns, tcmcv_c/tcmcv_asm, 'g-o', label='C-ASM')\n",
        "plt.plot(ns, tcmcv_python/tcmcv_asm, 'r-o', label='Python-ASM')\n",
        "plt.title('speedup por tamagno-CMCV')\n",
        "plt.xlabel('tamagno')\n",
        "plt.ylabel('speedup')\n",
        "plt.legend()\n",
        "plt.show()\n",
        "#En AWS:\n",
        "#plt.savefig('CMCV_speedup.jpg')"
      ],
      "metadata": {
        "id": "TLgNs-BOSkGJ"
      },
      "id": "TLgNs-BOSkGJ",
      "execution_count": null,
      "outputs": []
    },
    {
      "cell_type": "markdown",
      "source": [
        "![CMCV_speedup.jpg](data:image/jpeg;base64,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)"
      ],
      "metadata": {
        "id": "XYtL80Z7oaXo"
      },
      "id": "XYtL80Z7oaXo"
    },
    {
      "cell_type": "code",
      "execution_count": null,
      "id": "2e05ad76",
      "metadata": {
        "id": "2e05ad76"
      },
      "outputs": [],
      "source": [
        "! rm *.o\n",
        "! rm *.so\n",
        "! rm *.c"
      ]
    }
  ],
  "metadata": {
    "kernelspec": {
      "display_name": "Python 3 (ipykernel)",
      "language": "python",
      "name": "python3"
    },
    "language_info": {
      "codemirror_mode": {
        "name": "ipython",
        "version": 3
      },
      "file_extension": ".py",
      "mimetype": "text/x-python",
      "name": "python",
      "nbconvert_exporter": "python",
      "pygments_lexer": "ipython3",
      "version": "3.8.10"
    },
    "colab": {
      "provenance": [],
      "collapsed_sections": []
    }
  },
  "nbformat": 4,
  "nbformat_minor": 5
}