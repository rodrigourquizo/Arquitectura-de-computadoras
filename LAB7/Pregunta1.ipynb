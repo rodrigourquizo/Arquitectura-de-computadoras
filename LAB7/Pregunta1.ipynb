{
  "cells": [
    {
      "cell_type": "markdown",
      "metadata": {
        "id": "PYQf7z5IzU2z"
      },
      "source": [
        "LAB7\n",
        "PREGUNTA 1\n",
        "\n",
        "RODRIGO URQUIZO - 201933393"
      ]
    },
    {
      "cell_type": "markdown",
      "metadata": {
        "id": "tHp-2T0VzgIq"
      },
      "source": [
        "\n",
        "A) Obtener la cantidad de errores en el dataset "
      ]
    },
    {
      "cell_type": "code",
      "execution_count": 50,
      "metadata": {
        "colab": {
          "base_uri": "https://localhost:8080/"
        },
        "id": "bAV5CXu04q-e",
        "outputId": "e93044f4-7135-4143-aa28-0959d8a1cc2a"
      },
      "outputs": [
        {
          "name": "stdout",
          "output_type": "stream",
          "text": [
            "Cantidad de errores:  11\n"
          ]
        }
      ],
      "source": [
        "import csv\n",
        "import matplotlib.pyplot as plt\n",
        "\n",
        "valores_con_errores = []\n",
        "errores = []\n",
        "erradas = 0\n",
        "valores_b = []\n",
        "\n",
        "file = open('data/dpto_39.csv', 'r')\n",
        "\n",
        "reader = csv.reader(file)\n",
        "next(reader)\n",
        "\n",
        "i = 0\n",
        "\n",
        "saltar = False\n",
        "\n",
        "for row in reader:\n",
        "    if saltar:\n",
        "        anterior = float(row[1])\n",
        "        valores_con_errores.append(anterior)\n",
        "        saltar = False\n",
        "        i+=1\n",
        "        continue\n",
        "        \n",
        "    if i == 0:\n",
        "        anterior = float(row[1])\n",
        "        valores_con_errores.append(anterior)\n",
        "    else:\n",
        "        muestra = float(row[1])\n",
        "        valores_con_errores.append(muestra)\n",
        "        if((muestra<anterior) or (abs(muestra - anterior)>15)) : #Verifico si la muetra es menor a la anterior o si la diferencia es mayor a 15   \n",
        "            erradas +=1\n",
        "            errores.append((i, muestra))\n",
        "            saltar = True\n",
        "        else:\n",
        "            saltar = False    \n",
        "        anterior = muestra\n",
        "\n",
        "    if(i<=8):\n",
        "        valores_b.append(float(row[1]))\n",
        "    \n",
        "    i+=1    \n",
        "    \n",
        "    \n",
        "print('Cantidad de errores: ', int(erradas) )\n",
        "#print(errores)"
      ]
    },
    {
      "cell_type": "markdown",
      "metadata": {
        "id": "zs4wtcdxzrVi"
      },
      "source": [
        "Verifico la cantidad de errores con la grafica"
      ]
    },
    {
      "cell_type": "code",
      "execution_count": 51,
      "metadata": {
        "colab": {
          "base_uri": "https://localhost:8080/",
          "height": 296
        },
        "id": "HVvDP3AL4wqW",
        "outputId": "e92b4a29-d786-47ae-be0e-91c7a9204310"
      },
      "outputs": [
        {
          "data": {
            "text/plain": [
              "<matplotlib.legend.Legend at 0x7f6d2ad4bed0>"
            ]
          },
          "execution_count": 51,
          "metadata": {},
          "output_type": "execute_result"
        },
        {
          "data": {
            "image/png": "[encoded data removed]",
            "text/plain": [
              "<Figure size 432x288 with 1 Axes>"
            ]
          },
          "metadata": {
            "needs_background": "light"
          },
          "output_type": "display_data"
        }
      ],
      "source": [
        "plt.plot(range(len(valores_con_errores)), valores_con_errores, label='valores_con_errores')\n",
        "plt.xlabel('index')\n",
        "plt.ylabel('litros')\n",
        "plt.legend()"
      ]
    },
    {
      "cell_type": "markdown",
      "metadata": {
        "id": "ISd1H1aXGucB"
      },
      "source": [
        "B)Obtengo la mediana para los 9 valores"
      ]
    },
    {
      "cell_type": "code",
      "execution_count": 52,
      "metadata": {
        "colab": {
          "base_uri": "https://localhost:8080/"
        },
        "id": "ff6kS5gKGcDy",
        "outputId": "52543b5a-3e89-46a8-f9ae-9c1d4b638d7b"
      },
      "outputs": [
        {
          "name": "stdout",
          "output_type": "stream",
          "text": [
            "Valores_b: [4.568183127564, 9.36099061242182, 14.3273829046456, 14.6026146986018, 14.7141574916741, 14.9660288979273, 19.6911907378142, 21.4024292125627, 25.1251543128942]\n",
            "Mediana: 14.7141574916741\n"
          ]
        }
      ],
      "source": [
        "def mediana(lista):\n",
        "    lista_previa = lista\n",
        "    new_list = []\n",
        "    #Primero ordeno la lista\n",
        "    while lista_previa:\n",
        "        min = lista_previa[0]  \n",
        "        for x in lista_previa: \n",
        "            if x < min:\n",
        "                min = x\n",
        "        new_list.append(min)\n",
        "        lista_previa.remove(min)    \n",
        "\n",
        "    index = len(new_list) // 2\n",
        "    \n",
        "    # Si la lista es impar  \n",
        "    if len(new_list) % 2 != 0:\n",
        "        return new_list[index]\n",
        "    \n",
        "    # Si la lista es par\n",
        "    return (new_list[index - 1] + new_list[index]) / 2\n",
        "\n",
        "print('Valores_b:', valores_b)\n",
        "mediana_ =  mediana(valores_b)\n",
        "print('Mediana:', mediana_)\n"
      ]
    },
    {
      "cell_type": "markdown",
      "metadata": {
        "id": "-3ejafqrz8qF"
      },
      "source": [
        "Funcion para aplicar la correccion a las mediciones erradas con la mediana"
      ]
    },
    {
      "cell_type": "code",
      "execution_count": 22,
      "metadata": {
        "id": "yl6vBIGs440H"
      },
      "outputs": [],
      "source": [
        "def filtro_mediana(valores_con_errores):\n",
        "\n",
        "  valores_filtrados = valores_con_errores \n",
        "\n",
        "  for i, error in errores:\n",
        "      error =  valores_con_errores[i]\n",
        "      if(i>=4 and i<=((len(valores_filtrados)-1)-4)):\n",
        "          lista_valores = valores_con_errores[i-4:i] + valores_con_errores[i:i+5]\n",
        "          #print(lista_valores)\n",
        "          valor_mediana = mediana(lista_valores) \n",
        "\n",
        "      elif(i<4):\n",
        "          lista_valores = valores_con_errores[0:i] + valores_con_errores[i:2*i+1]\n",
        "          valor_mediana = mediana(lista_valores)\n",
        "\n",
        "      elif (i>((len(valores_filtrados)-1)-4) ):\n",
        "          cant_posteriores = len(valores_filtrados)-1 - i\n",
        "          lista_valores = valores_con_errores[i-cant_posteriores:i] + valores_con_errores[i:len(valores_filtrados)]\n",
        "          valor_mediana = mediana(lista_valores)\n",
        "\n",
        "      valores_filtrados[i] = valor_mediana #Aca reemplazo al error por la mediana aplicando el filtro\n",
        "  \n",
        "  return valores_filtrados\n"
      ]
    },
    {
      "cell_type": "markdown",
      "metadata": {
        "id": "FgqtN8Wt_wtv"
      },
      "source": [
        "D)Grafico de los valores corregidos con el filtro para el dataset del inciso a"
      ]
    },
    {
      "cell_type": "code",
      "execution_count": 23,
      "metadata": {
        "colab": {
          "base_uri": "https://localhost:8080/",
          "height": 279
        },
        "id": "PbzzxnBl-3Qq",
        "outputId": "81a32086-bddd-4191-e085-0470a9166162"
      },
      "outputs": [
        {
          "data": {
            "image/png": "[encoded data removed]",
            "text/plain": [
              "<Figure size 432x288 with 1 Axes>"
            ]
          },
          "metadata": {
            "needs_background": "light"
          },
          "output_type": "display_data"
        }
      ],
      "source": [
        "valores_filtrados = filtro_mediana(valores_con_errores)\n",
        "plt.plot(range(len(valores_filtrados)), valores_filtrados, label='Valores filtrados')\n",
        "plt.xlabel('index')\n",
        "plt.ylabel('litros')\n",
        "plt.legend()\n",
        "plt.show()"
      ]
    },
    {
      "cell_type": "markdown",
      "metadata": {
        "id": "i64knVM7_90X"
      },
      "source": [
        "C) y E) Aplico el filtro a todos los datasets empleando la funcion filtro_mediana(), obtengo listas con los valores corregidos(valores filtrados). Con dichas listas obtengo los flujos para cada dataset y hallo el flujo promedio de cada dataset empleando la función flujo_promedio(),este valor lo guardo en una lista de flujos promedios.\n",
        "Finalmente con esta lista de promedios obtengo el gráfico del histograma\n"
      ]
    },
    {
      "cell_type": "code",
      "execution_count": 55,
      "metadata": {
        "id": "v4QwU7Op_dAP"
      },
      "outputs": [],
      "source": [
        "#Ahora aplico el filtro a todos los datasets\n",
        "\n",
        "lista_flujos_promedios = []\n",
        "\n",
        "#Funcion para hallar el flujo promedio\n",
        "def flujo_promedio(lista_muestras):\n",
        "  flujo_lista = []\n",
        "  anterior = lista_muestras[0]\n",
        "  for i in range(1,len(lista_muestras)):\n",
        "    muestra = lista_muestras[i]\n",
        "    delta_tiempo = 5 #el delta de tiempo es 300s o 5 min como se indica en la guia\n",
        "    delta_litros = muestra - anterior\n",
        "    flujo = delta_litros / delta_tiempo #El flujo se expresa como volumen por tiempo, en este caso litros sobre minutos\n",
        "    flujo_lista.append(flujo)\n",
        "    anterior = muestra\n",
        "  promedio = sum(flujo_lista)/len(flujo_lista)\n",
        "  return promedio\n",
        "      \n",
        "for i in range(100):\n",
        "    file_name = \"data/dpto_{:02d}\".format(i) + '.csv' #Con este bloque de codigo puedo iterar los archivos de la carpeta data\n",
        "    file = open(file_name, 'r')\n",
        "    reader = csv.reader(file)\n",
        "    next(reader) #Esto es para saltar el header \n",
        "    i = 0\n",
        "    saltar = False\n",
        "    valores_con_errores = []\n",
        "    errores = []\n",
        "\n",
        "    for row in reader:\n",
        "        if saltar:\n",
        "            anterior = float(row[1])\n",
        "            valores_con_errores.append(anterior)\n",
        "            saltar = False\n",
        "            i+=1\n",
        "            continue\n",
        "\n",
        "        if i == 0:\n",
        "            anterior = float(row[1])\n",
        "            valores_con_errores.append(anterior)\n",
        "        else:\n",
        "            muestra = float(row[1])\n",
        "            valores_con_errores.append(muestra)\n",
        "            if((muestra<anterior) or (abs(muestra - anterior)>15)) : #Verifico si la muetra es menor a la anterior o si la diferencia es mayor a 15   \n",
        "                errores.append((i, muestra))\n",
        "                saltar = True\n",
        "            else:\n",
        "                saltar = False    \n",
        "            anterior = muestra\n",
        "\n",
        "        i+=1\n",
        "    #C)Obtengo una lista con las mediciones corregidas por cada dpto\n",
        "    valores_filtrados = filtro_mediana(valores_con_errores)\n",
        "    #E)Hallo el flujo promedio de cada dpto\n",
        "    flujo_avg = flujo_promedio(valores_filtrados)\n",
        "    lista_flujos_promedios.append(flujo_avg)\n",
        "\n"
      ]
    },
    {
      "cell_type": "markdown",
      "metadata": {
        "id": "u2840h29F8dW"
      },
      "source": [
        "Grafico del histograma\n",
        "\n"
      ]
    },
    {
      "cell_type": "code",
      "execution_count": 59,
      "metadata": {
        "colab": {
          "base_uri": "https://localhost:8080/",
          "height": 390
        },
        "id": "LqWVE8TKEDNq",
        "outputId": "28f2421e-2c18-4b6f-9c1d-b31d9643f7dd"
      },
      "outputs": [
        {
          "data": {
            "image/png": "[encoded data removed]",
            "text/plain": [
              "<Figure size 720x432 with 1 Axes>"
            ]
          },
          "metadata": {
            "needs_background": "light"
          },
          "output_type": "display_data"
        }
      ],
      "source": [
        "plt.figure(figsize=(10, 6))\n",
        "plt.hist(lista_flujos_promedios,bins = 10)\n",
        "plt.title('Histograma de flujos promedios en litros/min')\n",
        "plt.show()"
      ]
    }
  ],
  "metadata": {
    "colab": {
      "collapsed_sections": [],
      "provenance": []
    },
    "kernelspec": {
      "display_name": "Python 3.10.5 64-bit",
      "language": "python",
      "name": "python3"
    },
    "language_info": {
      "name": "python",
      "version": "3.10.5"
    },
    "vscode": {
      "interpreter": {
        "hash": "ee2a7c9015b91ee63fcf66d1f7bdd019e72329791294f7a13fb0f9473437fadb"
      }
    }
  },
  "nbformat": 4,
  "nbformat_minor": 0
}
